{
 "cells": [
  {
   "cell_type": "code",
   "execution_count": 1,
   "metadata": {},
   "outputs": [],
   "source": [
    "# Kaggle competition : Titanic"
   ]
  },
  {
   "cell_type": "code",
   "execution_count": 5,
   "metadata": {},
   "outputs": [],
   "source": [
    "import numpy as np\n",
    "import pandas as pd\n",
    "from os import walk\n",
    "import sys"
   ]
  },
  {
   "cell_type": "code",
   "execution_count": 6,
   "metadata": {},
   "outputs": [
    {
     "name": "stdout",
     "output_type": "stream",
     "text": [
      "路徑： D:/python_practice_data/Titanic\n",
      "  目錄： ['.ipynb_checkpoints']\n",
      "  檔案： ['gender_submission.csv', 'test.csv', 'Titanic.ipynb', 'train.csv']\n",
      "路徑： D:/python_practice_data/Titanic\\.ipynb_checkpoints\n",
      "  目錄： []\n",
      "  檔案： ['Titanic-checkpoint.ipynb']\n"
     ]
    }
   ],
   "source": [
    "# 指定要列出所有檔案的目錄\n",
    "mypath = \"D:/python_practice_data/Titanic\"\n",
    "\n",
    "# 遞迴列出所有子目錄與檔案\n",
    "for root, dirs, files in walk(mypath): \n",
    "    print(\"路徑：\", root)\n",
    "    print(\"  目錄：\", dirs)\n",
    "    print(\"  檔案：\", files)"
   ]
  },
  {
   "cell_type": "code",
   "execution_count": 8,
   "metadata": {},
   "outputs": [],
   "source": [
    "train = pd.read_csv(\"./train.csv\")\n",
    "test = pd.read_csv(\"./test.csv\")"
   ]
  },
  {
   "cell_type": "code",
   "execution_count": 10,
   "metadata": {},
   "outputs": [
    {
     "data": {
      "text/plain": [
       "array(['PassengerId', 'Survived', 'Pclass', 'Name', 'Sex', 'Age', 'SibSp',\n",
       "       'Parch', 'Ticket', 'Fare', 'Cabin', 'Embarked'], dtype=object)"
      ]
     },
     "execution_count": 10,
     "metadata": {},
     "output_type": "execute_result"
    }
   ],
   "source": [
    "train.columns.values"
   ]
  },
  {
   "cell_type": "code",
   "execution_count": 13,
   "metadata": {},
   "outputs": [
    {
     "name": "stdout",
     "output_type": "stream",
     "text": [
      "資料欄位資訊\n"
     ]
    },
    {
     "data": {
      "text/plain": [
       "{'PassengerId': '乘客ID',\n",
       " 'Survived': '存活狀態，0為死亡',\n",
       " 'pclass': '票的等級',\n",
       " 'sex': '性別',\n",
       " 'Age': '年齡',\n",
       " 'sibsp': '兄弟姊妹的數量或配偶',\n",
       " 'parch': '父母或小孩數量',\n",
       " 'Ticket': '買的票數',\n",
       " 'Fare': '票價',\n",
       " 'Cabin': '客艙號碼',\n",
       " 'Embarked': '登船港口，C = Cherbourg, Q = Queenstown, S = Southampton'}"
      ]
     },
     "execution_count": 13,
     "metadata": {},
     "output_type": "execute_result"
    }
   ],
   "source": [
    "\"\"\"\n",
    "照理說pclass與票價，應成正比\n",
    "sibsp、parch與Ticket應成正比\n",
    "\"\"\"\n",
    "data_dict = {}\n",
    "data_dict[\"PassengerId\"] = \"乘客ID\"\n",
    "data_dict[\"Survived\"] = \"存活狀態，0為死亡\"\n",
    "data_dict[\"pclass\"] = \"票的等級\"\n",
    "data_dict[\"sex\"] = \"性別\"\n",
    "data_dict[\"Age\"] = \"年齡\"\n",
    "data_dict[\"sibsp\"] = \"兄弟姊妹的數量或配偶\"\n",
    "data_dict[\"parch\"] = \"父母或小孩數量\"\n",
    "data_dict[\"Ticket\"] = \"買的票數\"\n",
    "data_dict[\"Fare\"] = \"票價\"\n",
    "data_dict[\"Cabin\"] = \"客艙號碼\"\n",
    "data_dict[\"Embarked\"] = \"登船港口，C = Cherbourg, Q = Queenstown, S = Southampton\"\n",
    "print(\"資料欄位資訊\")\n",
    "data_dict"
   ]
  },
  {
   "cell_type": "code",
   "execution_count": 17,
   "metadata": {},
   "outputs": [
    {
     "name": "stdout",
     "output_type": "stream",
     "text": [
      "train data dimension:  (891, 12)\n"
     ]
    }
   ],
   "source": [
    "print(\"train data dimension: \", train.shape)"
   ]
  },
  {
   "cell_type": "code",
   "execution_count": 18,
   "metadata": {},
   "outputs": [
    {
     "name": "stdout",
     "output_type": "stream",
     "text": [
      "<class 'pandas.core.frame.DataFrame'>\n",
      "RangeIndex: 891 entries, 0 to 890\n",
      "Data columns (total 12 columns):\n",
      "PassengerId    891 non-null int64\n",
      "Survived       891 non-null int64\n",
      "Pclass         891 non-null int64\n",
      "Name           891 non-null object\n",
      "Sex            891 non-null object\n",
      "Age            714 non-null float64\n",
      "SibSp          891 non-null int64\n",
      "Parch          891 non-null int64\n",
      "Ticket         891 non-null object\n",
      "Fare           891 non-null float64\n",
      "Cabin          204 non-null object\n",
      "Embarked       889 non-null object\n",
      "dtypes: float64(2), int64(5), object(5)\n",
      "memory usage: 83.6+ KB\n"
     ]
    }
   ],
   "source": [
    "\"\"\"看起來年齡、cabin、Embarked室友遺失值的\"\"\"\n",
    "train.info()"
   ]
  }
 ],
 "metadata": {
  "kernelspec": {
   "display_name": "Python 3",
   "language": "python",
   "name": "python3"
  },
  "language_info": {
   "codemirror_mode": {
    "name": "ipython",
    "version": 3
   },
   "file_extension": ".py",
   "mimetype": "text/x-python",
   "name": "python",
   "nbconvert_exporter": "python",
   "pygments_lexer": "ipython3",
   "version": "3.6.4"
  }
 },
 "nbformat": 4,
 "nbformat_minor": 2
}
